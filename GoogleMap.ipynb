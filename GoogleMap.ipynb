{
 "metadata": {
  "language_info": {
   "codemirror_mode": {
    "name": "ipython",
    "version": 3
   },
   "file_extension": ".py",
   "mimetype": "text/x-python",
   "name": "python",
   "nbconvert_exporter": "python",
   "pygments_lexer": "ipython3",
   "version": 3
  },
  "orig_nbformat": 2
 },
 "nbformat": 4,
 "nbformat_minor": 2,
 "cells": [
  {
   "cell_type": "code",
   "execution_count": null,
   "metadata": {},
   "outputs": [],
   "source": [
    "pip install gmplot"
   ]
  },
  {
   "cell_type": "code",
   "execution_count": null,
   "metadata": {},
   "outputs": [],
   "source": [
    "from google.colab import drive\n",
    "drive.mount('/content/gdrive')"
   ]
  },
  {
   "cell_type": "code",
   "execution_count": null,
   "metadata": {},
   "outputs": [],
   "source": [
    "import gmplot\n",
    "firstmap = gmplot.GoogleMapPlotter(30.3164945, 78.0321917999999, 13 ) \n",
    "firstmap.draw(\"/content/gdrive/My Drive/first.html\")"
   ]
  },
  {
   "cell_type": "code",
   "execution_count": null,
   "metadata": {},
   "outputs": [],
   "source": [
    "import ast\n",
    "latitudes = []\n",
    "longitudes = []\n",
    "inputo = input(\"Enter month: \")\n",
    "month_name = inputo\n",
    "stringopener = \"/content/gdrive/My Drive/\" + month_name + \"2019.txt\"\n",
    "inputfile = open(stringopener, \"r\")\n",
    "values = inputfile.read()\n",
    "numval = values.index(\"clusters_to_mean\")+19\n",
    "values = values[numval:len(values)+1]\n",
    "dictionary = ast.literal_eval(values)\n",
    "inputfile.close()"
   ]
  },
  {
   "cell_type": "code",
   "execution_count": null,
   "metadata": {},
   "outputs": [],
   "source": [
    "for item in dictionary.keys():\n",
    "    latitudes.append(dictionary.get(item)[0])\n",
    "    longitudes.append(dictionary.get(item)[1])"
   ]
  },
  {
   "cell_type": "code",
   "execution_count": null,
   "metadata": {},
   "outputs": [],
   "source": [
    "secondmap = gmplot.GoogleMapPlotter(38.9072, 77.0369, 13 ) \n",
    "secondmap.scatter(latitudes, longitudes, '#FF0000', size = 30, marker = False)\n",
    "secondmap.draw(\"/content/gdrive/My Drive/second.html\")"
   ]
  }
 ]
}