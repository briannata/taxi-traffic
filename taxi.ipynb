{
 "cells": [
  {
   "cell_type": "code",
   "execution_count": null,
   "metadata": {},
   "outputs": [],
   "source": [
    "#please run on google colab\n",
    "from google.colab import drive\n",
    "drive.mount('/content/drive')"
   ]
  },
  {
   "cell_type": "code",
   "execution_count": null,
   "metadata": {},
   "outputs": [],
   "source": [
    "import pandas as pd\n",
    "\n",
    "#reading in data\n",
    "df = pd.read_csv('drive/My Drive/adsTaxiTrips_2019_01.csv', dtype = str) #replace the path and file name\n",
    "n = df.index[-1]\n",
    "start_dates = [df[\"StartDateTime\"][x] for x in range(n)]\n",
    "origin_latitudes = [df[\"OriginLatitude\"][x] for x in range(n)]\n",
    "origin_longitudes = [df[\"OriginLongitude\"][x] for x in range(n)]"
   ]
  },
  {
   "cell_type": "code",
   "execution_count": null,
   "metadata": {},
   "outputs": [],
   "source": [
    "#method to parse the start dates\n",
    "def date_to_num(s):\n",
    "    a = s.split(\" \")\n",
    "    b = a[0].split(\"-\")\n",
    "    c = a[1].split(\":\")\n",
    "    day = int(b[2])\n",
    "    hour = int(c[0])\n",
    "    minute = int(c[1])\n",
    "    second = float(c[2])\n",
    "    return 2920 + day * 96 + hour * 4 + (minute // 15)"
   ]
  },
  {
   "cell_type": "code",
   "execution_count": null,
   "metadata": {},
   "outputs": [],
   "source": [
    "coords = []\n",
    "\n",
    "for i in range(len(origin_latitudes)):\n",
    "    coords.append([origin_latitudes[i], origin_longitudes[i]])\n",
    "\n",
    "num_of_areas = 50\n",
    "\n",
    "#clustering the data using the k-means clustering algorithm\n",
    "\n",
    "from sklearn.cluster import KMeans\n",
    "kmeans = KMeans(n_clusters=num_of_areas)\n",
    "kmeans.fit(coords)\n",
    "clusters = kmeans.predict(coords)\n",
    "\n",
    "clusters_to_coords_dict = {n: [] for n in range(num_of_areas)}\n",
    "for x in range(len(clusters)):\n",
    "    clusters_to_coords_dict[clusters[x]] = clusters_to_coords_dict[clusters[x]] + [coords[x]]"
   ]
  },
  {
   "cell_type": "code",
   "execution_count": null,
   "metadata": {},
   "outputs": [],
   "source": [
    "clusters_to_mean = {n : \"0\" for n in range(num_of_areas)}\n",
    "\n",
    "#finding the middle of each cluster\n",
    "\n",
    "for i in range(num_of_areas):\n",
    "    l = clusters_to_coords_dict[i]\n",
    "    sum_lat = 0\n",
    "    sum_long = 0\n",
    "    for x in range(len(l)):\n",
    "        sum_lat += float(l[x][0])\n",
    "        sum_long += float(l[x][1])\n",
    "    clusters_to_mean[i] = [sum_lat/len(l), sum_long/len(l)]"
   ]
  },
  {
   "cell_type": "code",
   "execution_count": null,
   "metadata": {},
   "outputs": [],
   "source": [
    "time_sections = []\n",
    "\n",
    "taxi_count = {}\n",
    "\n",
    "#counting how many taxis are in each cluster during each time interval\n",
    "\n",
    "for ind in range(len(start_dates)):\n",
    "    n = date_to_num(start_dates[ind])\n",
    "    time_sections.append(n)\n",
    "    if n not in taxi_count.keys():\n",
    "        taxi_count[n] = {clusters[x]:0 for x in range(50)}\n",
    "        taxi_count[n][clusters[n]] = 1\n",
    "    else:\n",
    "        taxi_count[n][clusters[n]] += 1"
   ]
  },
  {
   "cell_type": "code",
   "execution_count": null,
   "metadata": {},
   "outputs": [],
   "source": [
    "#writing out the dictionaries to a text file\n",
    "with open('/content/drive/My Drive/January2019.txt', 'w') as writefile: #replace file name and path\n",
    "    writefile.write(\"taxi_count = \")\n",
    "    writefile.write(str(taxi_count))\n",
    "    writefile.write(\"clusters_to_mean = \")\n",
    "    writefile.write(str(clusters_to_mean))"
   ]
  }
 ],
 "metadata": {
  "kernelspec": {
   "display_name": "Python 3",
   "language": "python",
   "name": "python3"
  },
  "language_info": {
   "codemirror_mode": {
    "name": "ipython",
    "version": 3
   },
   "file_extension": ".py",
   "mimetype": "text/x-python",
   "name": "python",
   "nbconvert_exporter": "python",
   "pygments_lexer": "ipython3",
   "version": "3.8.5-final"
  }
 },
 "nbformat": 4,
 "nbformat_minor": 4
}